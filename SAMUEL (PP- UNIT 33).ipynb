{
 "cells": [
  {
   "cell_type": "code",
   "execution_count": 5,
   "id": "a4340032-4e24-4994-bc78-088ad243ce3e",
   "metadata": {},
   "outputs": [
    {
     "data": {
      "text/plain": [
       "[(0, 0), (0, 1), (1, 1), (2, 1), (3, 1), (3, 2), (3, 3)]"
      ]
     },
     "execution_count": 5,
     "metadata": {},
     "output_type": "execute_result"
    }
   ],
   "source": [
    "def solve(maze):\n",
    "    rows = len(maze)\n",
    "    cols = len(maze[0])\n",
    "    \n",
    "    directions = [(0, 1), (1, 0), (0, -1), (-1, 0)]\n",
    "    \n",
    "    def dfs(x, y, path):\n",
    "        if x == rows - 1 and y == cols - 1:\n",
    "            return path\n",
    "        \n",
    "        maze[x][y] = 2  \n",
    "        \n",
    "        for dx, dy in directions:\n",
    "            new_x, new_y = x + dx, y + dy\n",
    "            \n",
    "            if 0 <= new_x < rows and 0 <= new_y < cols and maze[new_x][new_y] == 0:\n",
    "                result = dfs(new_x, new_y, path + [(new_x, new_y)])\n",
    "                if result:\n",
    "                    return result\n",
    "        \n",
    "        maze[x][y] = 0\n",
    "        return None\n",
    "\n",
    "    start_path = [(0, 0)]\n",
    "    return dfs(0, 0, start_path)\n",
    "\n",
    "maze = [\n",
    "    [0, 0, 0, 0],\n",
    "    [1, 0, 1, 0],\n",
    "    [1, 0, 1, 1],\n",
    "    [0, 0, 0, 0]\n",
    "]\n",
    "\n",
    "solve(maze)"
   ]
  }
 ],
 "metadata": {
  "kernelspec": {
   "display_name": "Python 3 (ipykernel)",
   "language": "python",
   "name": "python3"
  },
  "language_info": {
   "codemirror_mode": {
    "name": "ipython",
    "version": 3
   },
   "file_extension": ".py",
   "mimetype": "text/x-python",
   "name": "python",
   "nbconvert_exporter": "python",
   "pygments_lexer": "ipython3",
   "version": "3.12.4"
  }
 },
 "nbformat": 4,
 "nbformat_minor": 5
}
